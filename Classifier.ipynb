#!/usr/bin/env python3
# -*- coding: utf-8 -*-
"""
Created on Thu Sep 13 18:41:11 2018

@author: mpcr
"""

# import utilities

import tensorflow as tf
from tensorflow import keras
import numpy as np
impor matplotlib.pyplot as plt
print(t.__version__)

# import data

data = #access some file in the directory
print(data.shape)

#