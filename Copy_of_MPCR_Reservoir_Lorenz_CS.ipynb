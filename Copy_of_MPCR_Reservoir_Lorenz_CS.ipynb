{
  "nbformat": 4,
  "nbformat_minor": 0,
  "metadata": {
    "colab": {
      "name": "Copy of MPCR_Reservoir_Lorenz_CS.ipynb",
      "provenance": [],
      "collapsed_sections": [
        "5ij9ZsNzdJGu"
      ],
      "include_colab_link": true
    },
    "kernelspec": {
      "name": "python3",
      "display_name": "Python 3"
    }
  },
  "cells": [
    {
      "cell_type": "markdown",
      "metadata": {
        "id": "view-in-github",
        "colab_type": "text"
      },
      "source": [
        "<a href=\"https://colab.research.google.com/github/justkittenaround/Working-Parts/blob/master/Copy_of_MPCR_Reservoir_Lorenz_CS.ipynb\" target=\"_parent\"><img src=\"https://colab.research.google.com/assets/colab-badge.svg\" alt=\"Open In Colab\"/></a>"
      ]
    },
    {
      "cell_type": "code",
      "metadata": {
        "id": "lC-SSaW9Sc2j"
      },
      "source": [
        "import numpy as np\n",
        "import matplotlib.pyplot as plt\n",
        "import os\n",
        "from google.colab import drive\n",
        "from numpy import *"
      ],
      "execution_count": 1,
      "outputs": []
    },
    {
      "cell_type": "code",
      "metadata": {
        "id": "ChgNMH9t1EDr",
        "colab": {
          "base_uri": "https://localhost:8080/"
        },
        "outputId": "0c286026-e6a2-4faa-9a46-80d55b797b19"
      },
      "source": [
        "drive.mount('/content/drive/')"
      ],
      "execution_count": null,
      "outputs": [
        {
          "output_type": "stream",
          "text": [
            "Mounted at /content/drive/\n"
          ],
          "name": "stdout"
        }
      ]
    },
    {
      "cell_type": "code",
      "metadata": {
        "id": "ahfo6THMOr95"
      },
      "source": [
        "# os.listdir('/content/drive/My Drive/Data1')"
      ],
      "execution_count": null,
      "outputs": []
    },
    {
      "cell_type": "markdown",
      "metadata": {
        "id": "5ij9ZsNzdJGu"
      },
      "source": [
        "###Lorenz Dataset"
      ]
    },
    {
      "cell_type": "code",
      "metadata": {
        "id": "8eavI78sQ0FO"
      },
      "source": [
        "text_file = open(\"/content/drive/My Drive/Data1/LORENZ.DAT\", \"r\")\n",
        "lines = text_file.readlines()\n",
        "lines = [line.strip(\"\\n\") for line in lines]\n",
        "data = np.asarray(lines).astype(np.float64)"
      ],
      "execution_count": null,
      "outputs": []
    },
    {
      "cell_type": "code",
      "metadata": {
        "id": "HojtZ7XHOffE",
        "colab": {
          "base_uri": "https://localhost:8080/"
        },
        "outputId": "f069615d-a86c-4909-bec7-e9e88e7e1d3f"
      },
      "source": [
        "data.shape"
      ],
      "execution_count": null,
      "outputs": [
        {
          "output_type": "execute_result",
          "data": {
            "text/plain": [
              "(16384,)"
            ]
          },
          "metadata": {
            "tags": []
          },
          "execution_count": 4
        }
      ]
    },
    {
      "cell_type": "code",
      "metadata": {
        "id": "FmdWyZDbOfhq",
        "colab": {
          "base_uri": "https://localhost:8080/",
          "height": 282
        },
        "outputId": "fc2e07fa-8d0c-4510-ff8d-97972a474d2b"
      },
      "source": [
        "plt.plot(data[200:600])"
      ],
      "execution_count": null,
      "outputs": [
        {
          "output_type": "execute_result",
          "data": {
            "text/plain": [
              "[<matplotlib.lines.Line2D at 0x7f84d6aba9e8>]"
            ]
          },
          "metadata": {
            "tags": []
          },
          "execution_count": 5
        },
        {
          "output_type": "display_data",
          "data": {
            "image/png": "[encoded data removed]",
            "text/plain": [
              "<Figure size 432x288 with 1 Axes>"
            ]
          },
          "metadata": {
            "tags": [],
            "needs_background": "light"
          }
        }
      ]
    },
    {
      "cell_type": "code",
      "metadata": {
        "id": "GqtO-GIdv9XQ"
      },
      "source": [
        "m_train = 3000\n",
        "m_transient = 100\n",
        "m_testing = 100\n",
        "\n",
        "n_in = 1\n",
        "n_res = 500\n",
        "n_out = 1\n",
        "\n",
        "a = 0.3\n",
        "r = 1e-8*np.eye(1+n_in+n_res)"
      ],
      "execution_count": null,
      "outputs": []
    },
    {
      "cell_type": "code",
      "metadata": {
        "id": "4bfm46Pz0EbN",
        "colab": {
          "base_uri": "https://localhost:8080/",
          "height": 282
        },
        "outputId": "55be35c5-df0b-4db8-8c91-4ee9849860d6"
      },
      "source": [
        "plt.plot(data[0:m_train])"
      ],
      "execution_count": null,
      "outputs": [
        {
          "output_type": "execute_result",
          "data": {
            "text/plain": [
              "[<matplotlib.lines.Line2D at 0x7f84d6a3e518>]"
            ]
          },
          "metadata": {
            "tags": []
          },
          "execution_count": 8
        },
        {
          "output_type": "display_data",
          "data": {
            "image/png": "[encoded data removed]",
            "text/plain": [
              "<Figure size 432x288 with 1 Axes>"
            ]
          },
          "metadata": {
            "tags": [],
            "needs_background": "light"
          }
        }
      ]
    },
    {
      "cell_type": "code",
      "metadata": {
        "id": "kBqZsc2bPmAx"
      },
      "source": [
        "# data += 0.1*np.random.normal(0,1,data.shape)"
      ],
      "execution_count": null,
      "outputs": []
    },
    {
      "cell_type": "code",
      "metadata": {
        "id": "VuUyOdLbPVPv"
      },
      "source": [
        "x = np.zeros((n_res,))\n",
        "\n",
        "\n",
        "X = np.zeros((1+n_in+n_res, m_train-m_transient))\n",
        "\n",
        "Y = np.zeros((n_out,m_testing))"
      ],
      "execution_count": null,
      "outputs": []
    },
    {
      "cell_type": "code",
      "metadata": {
        "id": "nZewuMbOgEC9"
      },
      "source": [
        "Wi = (np.random.rand(n_res,1+n_in)-0.5); #input weights\n",
        "\n",
        "Wr = 0.1*(np.random.randn(n_res,n_res)-0.5); #internal weights"
      ],
      "execution_count": null,
      "outputs": []
    },
    {
      "cell_type": "code",
      "metadata": {
        "id": "KxJjfaengEFo",
        "colab": {
          "base_uri": "https://localhost:8080/"
        },
        "outputId": "fda2c21d-8cbd-45b5-9c2e-5a0b09bfd88e"
      },
      "source": [
        "Yt = data[m_transient+1:m_train+1].T #ground truth\n",
        "Yt.shape"
      ],
      "execution_count": null,
      "outputs": [
        {
          "output_type": "execute_result",
          "data": {
            "text/plain": [
              "(2900,)"
            ]
          },
          "metadata": {
            "tags": []
          },
          "execution_count": 14
        }
      ]
    },
    {
      "cell_type": "markdown",
      "metadata": {
        "id": "YAM86Gb__1K3"
      },
      "source": [
        "###Biases"
      ]
    },
    {
      "cell_type": "markdown",
      "metadata": {
        "id": "8t2ymtjn-saQ"
      },
      "source": [
        "**No bias**"
      ]
    },
    {
      "cell_type": "code",
      "metadata": {
        "colab": {
          "base_uri": "https://localhost:8080/"
        },
        "id": "CKz_DtXuS57Z",
        "outputId": "c52e165a-52e1-4be7-ed1e-26a79130deba"
      },
      "source": [
        "Wr.shape"
      ],
      "execution_count": null,
      "outputs": [
        {
          "output_type": "execute_result",
          "data": {
            "text/plain": [
              "(500, 500)"
            ]
          },
          "metadata": {
            "tags": []
          },
          "execution_count": 26
        }
      ]
    },
    {
      "cell_type": "code",
      "metadata": {
        "colab": {
          "base_uri": "https://localhost:8080/"
        },
        "id": "9E_bZjg8S7Mr",
        "outputId": "9218b553-b823-4f64-de76-6ef13b8525fe"
      },
      "source": [
        "x.shape"
      ],
      "execution_count": null,
      "outputs": [
        {
          "output_type": "execute_result",
          "data": {
            "text/plain": [
              "(500,)"
            ]
          },
          "metadata": {
            "tags": []
          },
          "execution_count": 27
        }
      ]
    },
    {
      "cell_type": "code",
      "metadata": {
        "id": "N-pZVR11gEKl"
      },
      "source": [
        "for t in range(m_train):\n",
        "\n",
        "    u = data[t]\n",
        "\n",
        "    x = (1-a)*x + a*np.fmax(0,(Wi@r_[1,u] + Wr@x)) #r_ is concat, @ matmul, fmax is relu, a mommentum, \n",
        "\n",
        "    if t > m_transient: #after transient, store the stuff\n",
        "        X[:,t-m_transient] = r_[1,u,x]"
      ],
      "execution_count": null,
      "outputs": []
    },
    {
      "cell_type": "code",
      "metadata": {
        "id": "jqb9xsFVgEM2"
      },
      "source": [
        "Wo = Yt@np.linalg.pinv(X) #linalg.pinv is pseudo inverse, gt output weights"
      ],
      "execution_count": null,
      "outputs": []
    },
    {
      "cell_type": "markdown",
      "metadata": {
        "id": "98ee-0jf-1DZ"
      },
      "source": [
        "**Ridge Regression bias** -- bias #1\n",
        "<br />\n",
        "$ Wout=(R+A^2I)^{-1} P $\n",
        "<br />\n",
        "<br />\n",
        "where $ R = \\frac{1}{n_{max}}X'X $ , $ P = \\frac{1}{n_{max}}X'Y_t $, and $ A^2 $ is some small nonnegative number and $I$ is the idendity matrix\n"
      ]
    },
    {
      "cell_type": "code",
      "metadata": {
        "id": "HAkTShqbcKLe"
      },
      "source": [
        "for t in range(m_train):\n",
        "\n",
        "    u = data[t]\n",
        "\n",
        "    x = (1-a)*x + a*np.fmax(0,(Wi@r_[1,u] + Wr@x)) #r_ is concat, @ matmul, fmax is relu, a mommentum, \n",
        "\n",
        "    if t > m_transient: #after transient, store the stuff\n",
        "        X[:,t-m_transient] = r_[1,u,x]"
      ],
      "execution_count": null,
      "outputs": []
    },
    {
      "cell_type": "code",
      "metadata": {
        "id": "ZO7qqT8u7713"
      },
      "source": [
        "A = .7\n",
        "R = (1/X.shape[0]) * (X@X.T)\n",
        "P = (1/X.shape[0]) * (X@Yt)\n",
        "\n",
        "Wo = np.linalg.inv((R + (np.square(A) * np.eye(X.shape[0])))) @ P\n",
        "\n",
        "print(Wo)\n",
        "print(Wo.shape)"
      ],
      "execution_count": null,
      "outputs": []
    },
    {
      "cell_type": "markdown",
      "metadata": {
        "id": "WGRad2VYbyAs"
      },
      "source": [
        "**State noise** -- bias #2\n",
        "<br />\n",
        "state update with added noise vetor $v$\n"
      ]
    },
    {
      "cell_type": "code",
      "metadata": {
        "id": "uo9gLZm4cMBN"
      },
      "source": [
        "v = 0.001\n",
        "\n",
        "for t in range(m_train):\n",
        "\n",
        "    u = data[t]\n",
        "\n",
        "    x = (1-a)*x + a*np.fmax(0,(Wi@r_[1,u] + Wr@x)) + v #r_ is concat, @ matmul, fmax is relu, a mommentum, \n",
        "\n",
        "    if t > m_transient: #after transient, store the stuff\n",
        "        X[:,t-m_transient] = r_[1,u,x]"
      ],
      "execution_count": null,
      "outputs": []
    },
    {
      "cell_type": "code",
      "metadata": {
        "id": "Y4RXfGk6cMFO"
      },
      "source": [
        "Wo = Yt@np.linalg.pinv(X)"
      ],
      "execution_count": null,
      "outputs": []
    },
    {
      "cell_type": "markdown",
      "metadata": {
        "id": "HZmrESrOex9W"
      },
      "source": [
        "**Changing reservoir size, N** -- bias #3"
      ]
    },
    {
      "cell_type": "code",
      "metadata": {
        "id": "m__syK2Re8tU"
      },
      "source": [
        "n_res = 10000\n",
        "x = np.zeros((n_res,))\n",
        "X = np.zeros((1+n_in+n_res, m_train-m_transient))\n",
        "Y = np.zeros((n_out,m_testing))\n",
        "Wi = (np.random.rand(n_res,1+n_in)-0.5); #input weights\n",
        "Wr = 0.1*(np.random.randn(n_res,n_res)-0.5); #internal weights"
      ],
      "execution_count": null,
      "outputs": []
    },
    {
      "cell_type": "code",
      "metadata": {
        "id": "BxlGB3s5e4Uw"
      },
      "source": [
        "for t in range(m_train):\n",
        "\n",
        "    u = data[t]\n",
        "\n",
        "    x = (1-a)*x + a*np.fmax(0,(Wi@r_[1,u] + Wr@x)) #r_ is concat, @ matmul, fmax is relu, a mommentum, \n",
        "\n",
        "    if t > m_transient: #after transient, store the stuff\n",
        "        X[:,t-m_transient] = r_[1,u,x]"
      ],
      "execution_count": null,
      "outputs": []
    },
    {
      "cell_type": "code",
      "metadata": {
        "id": "8K3m0OXBe4fG"
      },
      "source": [
        "Wo = Yt@np.linalg.pinv(X)"
      ],
      "execution_count": null,
      "outputs": []
    },
    {
      "cell_type": "markdown",
      "metadata": {
        "id": "klC6IEAEcXDm"
      },
      "source": [
        "###**Testing**"
      ]
    },
    {
      "cell_type": "code",
      "metadata": {
        "id": "av2BWDOdgEPJ"
      },
      "source": [
        "u = data[m_train]\n",
        "\n",
        "for t in range(m_testing):\n",
        "\n",
        "    x = (1-a)*x + a*np.fmax(0,(np.matmul(Wi, r_[1,u]) + np.matmul(Wr, x)))\n",
        "\n",
        "    u = np.matmul(Wo, r_[1,u,x])\n",
        "\n",
        "    Y[:,t] = u \n"
      ],
      "execution_count": null,
      "outputs": []
    },
    {
      "cell_type": "code",
      "metadata": {
        "colab": {
          "base_uri": "https://localhost:8080/",
          "height": 282
        },
        "id": "xASff7INgERv",
        "outputId": "508837d9-0498-44bb-9e54-ad70412218d4"
      },
      "source": [
        "plt.plot(data[m_train+1:m_train+m_testing+1],'r.')\n",
        "plt.plot(Y[0,:],'b.') #prediction"
      ],
      "execution_count": null,
      "outputs": [
        {
          "output_type": "execute_result",
          "data": {
            "text/plain": [
              "[<matplotlib.lines.Line2D at 0x7f84d63ba5f8>]"
            ]
          },
          "metadata": {
            "tags": []
          },
          "execution_count": 34
        },
        {
          "output_type": "display_data",
          "data": {
            "image/png": "[encoded data removed]",
            "text/plain": [
              "<Figure size 432x288 with 1 Axes>"
            ]
          },
          "metadata": {
            "tags": [],
            "needs_background": "light"
          }
        }
      ]
    },
    {
      "cell_type": "code",
      "metadata": {
        "colab": {
          "base_uri": "https://localhost:8080/",
          "height": 282
        },
        "id": "ZN0Yv3rrgEUM",
        "outputId": "e79724f9-32de-4f96-d723-4584beebb002"
      },
      "source": [
        "plt.plot(np.arange(m_testing),data[m_train-m_testing+1:m_train+1],'b.')\n",
        "plt.plot(np.arange(m_testing,2*m_testing),data[m_train+1:m_train+m_testing+1],'r.')\n",
        "plt.plot(np.arange(m_testing,2*m_testing),Y[0,:],'g*')"
      ],
      "execution_count": null,
      "outputs": [
        {
          "output_type": "execute_result",
          "data": {
            "text/plain": [
              "[<matplotlib.lines.Line2D at 0x7f84cdb420b8>]"
            ]
          },
          "metadata": {
            "tags": []
          },
          "execution_count": 35
        },
        {
          "output_type": "display_data",
          "data": {
            "image/png": "[encoded data removed]",
            "text/plain": [
              "<Figure size 432x288 with 1 Axes>"
            ]
          },
          "metadata": {
            "tags": [],
            "needs_background": "light"
          }
        }
      ]
    },
    {
      "cell_type": "code",
      "metadata": {
        "colab": {
          "base_uri": "https://localhost:8080/",
          "height": 286
        },
        "id": "-yVzUQsQgEWt",
        "outputId": "0579e1cc-aade-432a-e7bf-c455d1d6cf3e"
      },
      "source": [
        "plt.imshow(X[0:200,0:200])"
      ],
      "execution_count": null,
      "outputs": [
        {
          "output_type": "execute_result",
          "data": {
            "text/plain": [
              "<matplotlib.image.AxesImage at 0x7f84cd9fefd0>"
            ]
          },
          "metadata": {
            "tags": []
          },
          "execution_count": 45
        },
        {
          "output_type": "display_data",
          "data": {
            "image/png": "[encoded data removed]",
            "text/plain": [
              "<Figure size 432x288 with 1 Axes>"
            ]
          },
          "metadata": {
            "tags": [],
            "needs_background": "light"
          }
        }
      ]
    },
    {
      "cell_type": "markdown",
      "metadata": {
        "id": "u2hecYo1g5O_"
      },
      "source": [
        "###**Compressed Sensing** --new bias"
      ]
    },
    {
      "cell_type": "code",
      "metadata": {
        "id": "V7JatNW4VaS0"
      },
      "source": [
        "for t in range(m_train):\n",
        "\n",
        "    u = data[t]\n",
        "\n",
        "    x = (1-a)*x + a*np.fmax(0,(np.matmul(Wi, r_[1,u]) + np.matmul(Wr, x))) #r_ is concat, @ matmul\n",
        "\n",
        "    if t > m_transient:\n",
        "        X[:,t-m_transient] = r_[1,u,x]"
      ],
      "execution_count": null,
      "outputs": []
    },
    {
      "cell_type": "code",
      "metadata": {
        "id": "lB4Qqe_XzHlt"
      },
      "source": [
        "Wc = np.random.randn(100,X.shape[0]) #Compressed Sensing Matrix"
      ],
      "execution_count": null,
      "outputs": []
    },
    {
      "cell_type": "code",
      "metadata": {
        "id": "-fnl-o1vzZXy"
      },
      "source": [
        "Xc = np.matmul(Wc,X)"
      ],
      "execution_count": null,
      "outputs": []
    },
    {
      "cell_type": "code",
      "metadata": {
        "colab": {
          "base_uri": "https://localhost:8080/"
        },
        "id": "ftBynEpZVWXy",
        "outputId": "3c15fd54-1b53-4ef8-b926-a715d9959162"
      },
      "source": [
        "Xc.shape"
      ],
      "execution_count": null,
      "outputs": [
        {
          "output_type": "execute_result",
          "data": {
            "text/plain": [
              "(100, 2900)"
            ]
          },
          "metadata": {
            "tags": []
          },
          "execution_count": 41
        }
      ]
    },
    {
      "cell_type": "code",
      "metadata": {
        "id": "eAmedg1ZzWzX"
      },
      "source": [
        "Wo = Yt@np.linalg.pinv(Xc) #linalg.pinv is pseudo inverse, gt output weights"
      ],
      "execution_count": null,
      "outputs": []
    },
    {
      "cell_type": "code",
      "metadata": {
        "id": "xeODyXnezWRx"
      },
      "source": [
        "#testing\n",
        "u = data[m_train]\n",
        "\n",
        "for t in range(m_testing):\n",
        "\n",
        "    x = (1-a)*x + a*np.fmax(0,(np.matmul(Wi, r_[1,u]) + np.matmul(Wr, x)))\n",
        "\n",
        "    u = np.matmul(Wo, np.matmul(Wc,r_[1,u,x]))\n",
        "\n",
        "    Y[:,t] = u \n"
      ],
      "execution_count": null,
      "outputs": []
    },
    {
      "cell_type": "code",
      "metadata": {
        "id": "e9BOQ0nXzxpC",
        "colab": {
          "base_uri": "https://localhost:8080/",
          "height": 286
        },
        "outputId": "0fe05f22-b1f4-49ca-ee50-420ab6c7c9d9"
      },
      "source": [
        "plt.plot(np.arange(m_testing),data[m_train-m_testing+1:m_train+1],'b.')\n",
        "plt.plot(np.arange(m_testing,2*m_testing),data[m_train+1:m_train+m_testing+1],'r.')\n",
        "plt.plot(np.arange(m_testing,2*m_testing),Y[0,:],'g*')"
      ],
      "execution_count": null,
      "outputs": [
        {
          "output_type": "execute_result",
          "data": {
            "text/plain": [
              "[<matplotlib.lines.Line2D at 0x7f84cda1f048>]"
            ]
          },
          "metadata": {
            "tags": []
          },
          "execution_count": 44
        },
        {
          "output_type": "display_data",
          "data": {
            "image/png": "[encoded data removed]",
            "text/plain": [
              "<Figure size 432x288 with 1 Axes>"
            ]
          },
          "metadata": {
            "tags": [],
            "needs_background": "light"
          }
        }
      ]
    },
    {
      "cell_type": "code",
      "metadata": {
        "id": "bGSoHn8tVaVL"
      },
      "source": [
        ""
      ],
      "execution_count": null,
      "outputs": []
    },
    {
      "cell_type": "code",
      "metadata": {
        "id": "KcmZijbzgx8i"
      },
      "source": [
        ""
      ],
      "execution_count": null,
      "outputs": []
    },
    {
      "cell_type": "code",
      "metadata": {
        "id": "XsveUQDDgyAG"
      },
      "source": [
        ""
      ],
      "execution_count": null,
      "outputs": []
    },
    {
      "cell_type": "code",
      "metadata": {
        "id": "KH6-molRgyCA"
      },
      "source": [
        ""
      ],
      "execution_count": null,
      "outputs": []
    },
    {
      "cell_type": "code",
      "metadata": {
        "id": "QhBnbni3gyD1"
      },
      "source": [
        ""
      ],
      "execution_count": null,
      "outputs": []
    },
    {
      "cell_type": "code",
      "metadata": {
        "id": "33PcynTrgyG4"
      },
      "source": [
        ""
      ],
      "execution_count": null,
      "outputs": []
    },
    {
      "cell_type": "code",
      "metadata": {
        "id": "N3tiMe4xgyI9"
      },
      "source": [
        ""
      ],
      "execution_count": null,
      "outputs": []
    },
    {
      "cell_type": "code",
      "metadata": {
        "id": "9lvbV-qngyR2"
      },
      "source": [
        ""
      ],
      "execution_count": null,
      "outputs": []
    },
    {
      "cell_type": "markdown",
      "metadata": {
        "id": "aFmO6Ae8dDeN"
      },
      "source": [
        "###Flowers Dataset"
      ]
    },
    {
      "cell_type": "code",
      "metadata": {
        "id": "lmycfV5XOzkM",
        "colab": {
          "base_uri": "https://localhost:8080/"
        },
        "outputId": "bb26ea31-db79-4e94-eb4e-197789ef86f2"
      },
      "source": [
        "!pip install tflearn #for dataset"
      ],
      "execution_count": null,
      "outputs": [
        {
          "output_type": "stream",
          "text": [
            "Collecting tflearn\n",
            "\u001b[?25l  Downloading https://files.pythonhosted.org/packages/e7/3c/0b156d08ef3d4e2a8009ecab2af1ad2e304f6fb99562b6271c68a74a4397/tflearn-0.5.0.tar.gz (107kB)\n",
            "\r\u001b[K     |███                             | 10kB 15.7MB/s eta 0:00:01\r\u001b[K     |██████                          | 20kB 20.8MB/s eta 0:00:01\r\u001b[K     |█████████▏                      | 30kB 11.0MB/s eta 0:00:01\r\u001b[K     |████████████▏                   | 40kB 8.9MB/s eta 0:00:01\r\u001b[K     |███████████████▎                | 51kB 7.3MB/s eta 0:00:01\r\u001b[K     |██████████████████▎             | 61kB 7.1MB/s eta 0:00:01\r\u001b[K     |█████████████████████▍          | 71kB 7.4MB/s eta 0:00:01\r\u001b[K     |████████████████████████▍       | 81kB 7.7MB/s eta 0:00:01\r\u001b[K     |███████████████████████████▌    | 92kB 7.8MB/s eta 0:00:01\r\u001b[K     |██████████████████████████████▌ | 102kB 7.0MB/s eta 0:00:01\r\u001b[K     |████████████████████████████████| 112kB 7.0MB/s \n",
            "\u001b[?25hRequirement already satisfied: numpy in /usr/local/lib/python3.6/dist-packages (from tflearn) (1.19.5)\n",
            "Requirement already satisfied: six in /usr/local/lib/python3.6/dist-packages (from tflearn) (1.15.0)\n",
            "Requirement already satisfied: Pillow in /usr/local/lib/python3.6/dist-packages (from tflearn) (7.0.0)\n",
            "Building wheels for collected packages: tflearn\n",
            "  Building wheel for tflearn (setup.py) ... \u001b[?25l\u001b[?25hdone\n",
            "  Created wheel for tflearn: filename=tflearn-0.5.0-cp36-none-any.whl size=127301 sha256=d5639689adcca31418035a96397585f3872d7166c22bb170de30f452514f4655\n",
            "  Stored in directory: /root/.cache/pip/wheels/31/d2/ed/fb9a0d301dd9586c11e9547120278e624227f22fd5f4baf744\n",
            "Successfully built tflearn\n",
            "Installing collected packages: tflearn\n",
            "Successfully installed tflearn-0.5.0\n"
          ],
          "name": "stdout"
        }
      ]
    },
    {
      "cell_type": "code",
      "metadata": {
        "id": "uItKjzKoOzmt",
        "colab": {
          "base_uri": "https://localhost:8080/"
        },
        "outputId": "fc52dc17-e648-4c90-8c52-874a809d5555"
      },
      "source": [
        "import tflearn.datasets.oxflower17 as oxflower17\n",
        "X, Y = oxflower17.load_data(resize_pics=(227, 227), one_hot=True)"
      ],
      "execution_count": null,
      "outputs": [
        {
          "output_type": "stream",
          "text": [
            "WARNING:tensorflow:From /usr/local/lib/python3.6/dist-packages/tensorflow/python/compat/v2_compat.py:96: disable_resource_variables (from tensorflow.python.ops.variable_scope) is deprecated and will be removed in a future version.\n",
            "Instructions for updating:\n",
            "non-resource variables are not supported in the long term\n",
            "Downloading Oxford 17 category Flower Dataset, Please wait...\n"
          ],
          "name": "stdout"
        },
        {
          "output_type": "stream",
          "text": [
            "100.0% 60276736 / 60270631\n"
          ],
          "name": "stderr"
        },
        {
          "output_type": "stream",
          "text": [
            "Succesfully downloaded 17flowers.tgz 60270631 bytes.\n",
            "File Extracted\n",
            "Starting to parse images...\n",
            "Parsing Done!\n"
          ],
          "name": "stdout"
        }
      ]
    },
    {
      "cell_type": "code",
      "metadata": {
        "id": "GlPtANQNOzpa",
        "colab": {
          "base_uri": "https://localhost:8080/"
        },
        "outputId": "b52f7d69-ed0f-45e0-b7cf-5bc693a70314"
      },
      "source": [
        "X.shape, Y.shape"
      ],
      "execution_count": null,
      "outputs": [
        {
          "output_type": "execute_result",
          "data": {
            "text/plain": [
              "((1360, 227, 227, 3), (1360, 17))"
            ]
          },
          "metadata": {
            "tags": []
          },
          "execution_count": 34
        }
      ]
    },
    {
      "cell_type": "code",
      "metadata": {
        "id": "2e2jsdOROfkE"
      },
      "source": [
        "#shuffle the data\n",
        "r = np.random.permutation(1000)\n",
        "dX = X[r,:,:,:]\n",
        "dY = Y[r,:]"
      ],
      "execution_count": null,
      "outputs": []
    },
    {
      "cell_type": "code",
      "metadata": {
        "id": "JYpnxRCeqz8i"
      },
      "source": [
        "X_train = X[0:int(0.8*dX.shape[0])]\n",
        "X_val = X[int(0.8*dX.shape[0]):dX.shape[0]] "
      ],
      "execution_count": null,
      "outputs": []
    },
    {
      "cell_type": "code",
      "metadata": {
        "id": "bUn7WlsZt3nB"
      },
      "source": [
        "Y_train = Y[0:int(0.8*dY.shape[0])]\n",
        "Y_val = Y[int(0.8*dY.shape[0]):dY.shape[0]] "
      ],
      "execution_count": null,
      "outputs": []
    },
    {
      "cell_type": "code",
      "metadata": {
        "id": "ZUE9JNCcdCqd"
      },
      "source": [
        "X1 = X[0:256]"
      ],
      "execution_count": null,
      "outputs": []
    },
    {
      "cell_type": "code",
      "metadata": {
        "colab": {
          "base_uri": "https://localhost:8080/"
        },
        "id": "GYWSvEpEdCs9",
        "outputId": "bf8e149d-83ff-4c37-8bd5-526ceb125c14"
      },
      "source": [
        "X.shape, Y.shape"
      ],
      "execution_count": null,
      "outputs": [
        {
          "output_type": "execute_result",
          "data": {
            "text/plain": [
              "((1360, 227, 227, 3), (1360, 17))"
            ]
          },
          "metadata": {
            "tags": []
          },
          "execution_count": 39
        }
      ]
    },
    {
      "cell_type": "code",
      "metadata": {
        "id": "uD6tPDF5dCvr"
      },
      "source": [
        "m_train = 3000\n",
        "m_transient = 100\n",
        "m_testing = 100\n",
        "\n",
        "n_in = 1\n",
        "n_res = 1000\n",
        "n_out = 17\n",
        "\n",
        "a = 0.3\n",
        "r = 1e-8*np.eye(1+n_in+n_res)"
      ],
      "execution_count": null,
      "outputs": []
    },
    {
      "cell_type": "code",
      "metadata": {
        "id": "fxxeLDq8v9ar"
      },
      "source": [
        "x = np.zeros((n_res,))\n",
        "\n",
        "\n",
        "X = np.zeros((1+n_in+n_res, m_train-m_transient))\n",
        "\n",
        "Y = np.zeros((n_out,m_testing))"
      ],
      "execution_count": null,
      "outputs": []
    },
    {
      "cell_type": "code",
      "metadata": {
        "id": "RWykSG9_v9dp"
      },
      "source": [
        "Wi = (np.random.rand(n_res,1+n_in)-0.5); #input weights\n",
        "\n",
        "Wr = 0.1*(np.random.randn(n_res,n_res)-0.5); #internal weights"
      ],
      "execution_count": null,
      "outputs": []
    },
    {
      "cell_type": "code",
      "metadata": {
        "id": "KrLGLgkqv9td"
      },
      "source": [
        "Yt = dX[m_transient+1:m_train+1].T #ground truth"
      ],
      "execution_count": null,
      "outputs": []
    },
    {
      "cell_type": "code",
      "metadata": {
        "id": "JptpLPYfucAS",
        "colab": {
          "base_uri": "https://localhost:8080/",
          "height": 499
        },
        "outputId": "499a3087-fbc6-4dc7-8556-cedbec667377"
      },
      "source": [
        "for t in range(m_train):\n",
        "\n",
        "    # u = data[t]\n",
        "    u = X_train\n",
        "\n",
        "    x = (1-a)*x + a*np.fmax(0,(Wi@r_[1,u] + Wr@x)) #r_ is concat, @ matmul, fmax is relu, a mommentum, \n",
        "\n",
        "    if t > m_transient: #after transient, store the stuff\n",
        "        X[:,t-m_transient] = r_[1,u,x]"
      ],
      "execution_count": null,
      "outputs": [
        {
          "output_type": "error",
          "ename": "ValueError",
          "evalue": "ignored",
          "traceback": [
            "\u001b[0;31m---------------------------------------------------------------------------\u001b[0m",
            "\u001b[0;31mValueError\u001b[0m                                Traceback (most recent call last)",
            "\u001b[0;32m<ipython-input-44-c7477cba3cfa>\u001b[0m in \u001b[0;36m<module>\u001b[0;34m()\u001b[0m\n\u001b[1;32m      4\u001b[0m     \u001b[0mu\u001b[0m \u001b[0;34m=\u001b[0m \u001b[0mX_train\u001b[0m\u001b[0;34m\u001b[0m\u001b[0;34m\u001b[0m\u001b[0m\n\u001b[1;32m      5\u001b[0m \u001b[0;34m\u001b[0m\u001b[0m\n\u001b[0;32m----> 6\u001b[0;31m     \u001b[0mx\u001b[0m \u001b[0;34m=\u001b[0m \u001b[0;34m(\u001b[0m\u001b[0;36m1\u001b[0m\u001b[0;34m-\u001b[0m\u001b[0ma\u001b[0m\u001b[0;34m)\u001b[0m\u001b[0;34m*\u001b[0m\u001b[0mx\u001b[0m \u001b[0;34m+\u001b[0m \u001b[0ma\u001b[0m\u001b[0;34m*\u001b[0m\u001b[0mnp\u001b[0m\u001b[0;34m.\u001b[0m\u001b[0mfmax\u001b[0m\u001b[0;34m(\u001b[0m\u001b[0;36m0\u001b[0m\u001b[0;34m,\u001b[0m\u001b[0;34m(\u001b[0m\u001b[0mWi\u001b[0m\u001b[0;34m@\u001b[0m\u001b[0mr_\u001b[0m\u001b[0;34m[\u001b[0m\u001b[0;36m1\u001b[0m\u001b[0;34m,\u001b[0m\u001b[0mu\u001b[0m\u001b[0;34m]\u001b[0m \u001b[0;34m+\u001b[0m \u001b[0mWr\u001b[0m\u001b[0;34m@\u001b[0m\u001b[0mx\u001b[0m\u001b[0;34m)\u001b[0m\u001b[0;34m)\u001b[0m \u001b[0;31m#r_ is concat, @ matmul, fmax is relu, a mommentum,\u001b[0m\u001b[0;34m\u001b[0m\u001b[0;34m\u001b[0m\u001b[0m\n\u001b[0m\u001b[1;32m      7\u001b[0m \u001b[0;34m\u001b[0m\u001b[0m\n\u001b[1;32m      8\u001b[0m     \u001b[0;32mif\u001b[0m \u001b[0mt\u001b[0m \u001b[0;34m>\u001b[0m \u001b[0mm_transient\u001b[0m\u001b[0;34m:\u001b[0m \u001b[0;31m#after transient, store the stuff\u001b[0m\u001b[0;34m\u001b[0m\u001b[0;34m\u001b[0m\u001b[0m\n",
            "\u001b[0;32m/usr/local/lib/python3.6/dist-packages/numpy/lib/index_tricks.py\u001b[0m in \u001b[0;36m__getitem__\u001b[0;34m(self, key)\u001b[0m\n\u001b[1;32m    404\u001b[0m                 \u001b[0mobjs\u001b[0m\u001b[0;34m[\u001b[0m\u001b[0mk\u001b[0m\u001b[0;34m]\u001b[0m \u001b[0;34m=\u001b[0m \u001b[0mobjs\u001b[0m\u001b[0;34m[\u001b[0m\u001b[0mk\u001b[0m\u001b[0;34m]\u001b[0m\u001b[0;34m.\u001b[0m\u001b[0mastype\u001b[0m\u001b[0;34m(\u001b[0m\u001b[0mfinal_dtype\u001b[0m\u001b[0;34m)\u001b[0m\u001b[0;34m\u001b[0m\u001b[0;34m\u001b[0m\u001b[0m\n\u001b[1;32m    405\u001b[0m \u001b[0;34m\u001b[0m\u001b[0m\n\u001b[0;32m--> 406\u001b[0;31m         \u001b[0mres\u001b[0m \u001b[0;34m=\u001b[0m \u001b[0mself\u001b[0m\u001b[0;34m.\u001b[0m\u001b[0mconcatenate\u001b[0m\u001b[0;34m(\u001b[0m\u001b[0mtuple\u001b[0m\u001b[0;34m(\u001b[0m\u001b[0mobjs\u001b[0m\u001b[0;34m)\u001b[0m\u001b[0;34m,\u001b[0m \u001b[0maxis\u001b[0m\u001b[0;34m=\u001b[0m\u001b[0maxis\u001b[0m\u001b[0;34m)\u001b[0m\u001b[0;34m\u001b[0m\u001b[0;34m\u001b[0m\u001b[0m\n\u001b[0m\u001b[1;32m    407\u001b[0m \u001b[0;34m\u001b[0m\u001b[0m\n\u001b[1;32m    408\u001b[0m         \u001b[0;32mif\u001b[0m \u001b[0mmatrix\u001b[0m\u001b[0;34m:\u001b[0m\u001b[0;34m\u001b[0m\u001b[0;34m\u001b[0m\u001b[0m\n",
            "\u001b[0;32m<__array_function__ internals>\u001b[0m in \u001b[0;36mconcatenate\u001b[0;34m(*args, **kwargs)\u001b[0m\n",
            "\u001b[0;31mValueError\u001b[0m: all the input arrays must have same number of dimensions, but the array at index 0 has 1 dimension(s) and the array at index 1 has 4 dimension(s)"
          ]
        }
      ]
    },
    {
      "cell_type": "code",
      "metadata": {
        "id": "y7l-JpLnv99R"
      },
      "source": [
        "Wo = Yt@np.linalg.pinv(X) #linalg.pinv is pseudo inverse, gt output weights"
      ],
      "execution_count": null,
      "outputs": []
    },
    {
      "cell_type": "code",
      "metadata": {
        "id": "HQYhgSBxphpq"
      },
      "source": [
        "#testing\n",
        "u = data[m_train]\n",
        "\n",
        "for t in range(m_testing):\n",
        "\n",
        "    x = (1-a)*x + a*np.fmax(0,(np.matmul(Wi, r_[1,u]) + np.matmul(Wr, x)))\n",
        "\n",
        "    u = Wo@r_[1,u,x]\n",
        "\n",
        "    Y[:,t] = u \n"
      ],
      "execution_count": null,
      "outputs": []
    },
    {
      "cell_type": "code",
      "metadata": {
        "id": "a1DclbTiv9q9"
      },
      "source": [
        "plt.plot(data[m_train+1:m_train+m_testing+1],'r.')\n",
        "plt.plot(Y[0,:],'b.') #prediction"
      ],
      "execution_count": null,
      "outputs": []
    },
    {
      "cell_type": "code",
      "metadata": {
        "id": "pAzPdAQYv9l3"
      },
      "source": [
        "plt.plot(np.arange(m_testing),data[m_train-m_testing+1:m_train+1],'b.')\n",
        "plt.plot(np.arange(m_testing,2*m_testing),data[m_train+1:m_train+m_testing+1],'r.')\n",
        "plt.plot(np.arange(m_testing,2*m_testing),Y[0,:],'g*')"
      ],
      "execution_count": null,
      "outputs": []
    },
    {
      "cell_type": "code",
      "metadata": {
        "id": "rCXRz-0oXffp"
      },
      "source": [
        ""
      ],
      "execution_count": null,
      "outputs": []
    },
    {
      "cell_type": "code",
      "metadata": {
        "id": "52ys79L-y2YR"
      },
      "source": [
        "plt.imshow(X[0:200,0:200])"
      ],
      "execution_count": null,
      "outputs": []
    },
    {
      "cell_type": "code",
      "metadata": {
        "id": "-1zAC-7f2tT3"
      },
      "source": [
        "plt.imshow(Xc[0:200,0:200])"
      ],
      "execution_count": null,
      "outputs": []
    },
    {
      "cell_type": "code",
      "metadata": {
        "id": "jsriwz7Oy2VD"
      },
      "source": [
        "plt.plot(X[2:,-1],'.')"
      ],
      "execution_count": null,
      "outputs": []
    },
    {
      "cell_type": "code",
      "metadata": {
        "id": "Qbfnfgzmv9hD"
      },
      "source": [
        "plt.plot(Xc[2:,-1],'.')"
      ],
      "execution_count": null,
      "outputs": []
    },
    {
      "cell_type": "code",
      "metadata": {
        "id": "F-_qCL_j2HNP"
      },
      "source": [
        ""
      ],
      "execution_count": null,
      "outputs": []
    },
    {
      "cell_type": "code",
      "metadata": {
        "id": "u8k-o-VOVaM7"
      },
      "source": [
        ""
      ],
      "execution_count": null,
      "outputs": []
    },
    {
      "cell_type": "code",
      "metadata": {
        "id": "jMJDihozVaOk"
      },
      "source": [
        ""
      ],
      "execution_count": null,
      "outputs": []
    },
    {
      "cell_type": "code",
      "metadata": {
        "id": "o7ZML9AzVaQp"
      },
      "source": [
        ""
      ],
      "execution_count": null,
      "outputs": []
    },
    {
      "cell_type": "markdown",
      "metadata": {
        "id": "U4E-_BHng6aE"
      },
      "source": [
        "###Compressed Sensing Version"
      ]
    },
    {
      "cell_type": "code",
      "metadata": {
        "id": "ZfBGOMxKg6aG"
      },
      "source": [
        "for t in range(m_train):\n",
        "\n",
        "    u = data[t]\n",
        "\n",
        "    x = (1-a)*x + a*np.fmax(0,(np.matmul(Wi, r_[1,u]) + np.matmul(Wr, x))) #r_ is concat, @ matmul\n",
        "\n",
        "    if t > m_transient:\n",
        "        X[:,t-m_transient] = r_[1,u,x]"
      ],
      "execution_count": null,
      "outputs": []
    },
    {
      "cell_type": "code",
      "metadata": {
        "id": "f8gt7IBlg6aG"
      },
      "source": [
        "Wc = np.random.randn(100,X.shape[0]) #Compressed Sensing Matrix"
      ],
      "execution_count": null,
      "outputs": []
    },
    {
      "cell_type": "code",
      "metadata": {
        "id": "_L-Xuphjg6aH"
      },
      "source": [
        "Xc = np.matmul(Wc,X)"
      ],
      "execution_count": null,
      "outputs": []
    },
    {
      "cell_type": "code",
      "metadata": {
        "id": "Hrp30oLIg6aH"
      },
      "source": [
        "Wo = Yt@np.linalg.pinv(Xc) #linalg.pinv is pseudo inverse, gt output weights"
      ],
      "execution_count": null,
      "outputs": []
    },
    {
      "cell_type": "code",
      "metadata": {
        "id": "G4YElIxcg6aH"
      },
      "source": [
        "#testing\n",
        "u = data[m_train]\n",
        "\n",
        "for t in range(m_testing):\n",
        "\n",
        "    x = (1-a)*x + a*np.fmax(0,(np.matmul(Wi, r_[1,u]) + np.matmul(Wr, x)))\n",
        "\n",
        "    u = np.matmul(Wo, np.matmul(Wc,r_[1,u,x]))\n",
        "\n",
        "    Y[:,t] = u \n"
      ],
      "execution_count": null,
      "outputs": []
    },
    {
      "cell_type": "code",
      "metadata": {
        "id": "KpJ8-jf7g6aJ"
      },
      "source": [
        "plt.plot(np.arange(m_testing),data[m_train-m_testing+1:m_train+1],'b.')\n",
        "plt.plot(np.arange(m_testing,2*m_testing),data[m_train+1:m_train+m_testing+1],'r.')\n",
        "plt.plot(np.arange(m_testing,2*m_testing),Y[0,:],'g*')"
      ],
      "execution_count": null,
      "outputs": []
    },
    {
      "cell_type": "code",
      "metadata": {
        "id": "15oltkRlg6aJ"
      },
      "source": [
        ""
      ],
      "execution_count": null,
      "outputs": []
    }
  ]
}